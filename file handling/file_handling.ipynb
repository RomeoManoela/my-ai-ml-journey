{
 "cells": [
  {
   "metadata": {},
   "cell_type": "markdown",
   "source": [
    "# Module: File Handling Assignments\n",
    "### 1) Reading and Writing Files"
   ],
   "id": "149fa7e4deefb625"
  },
  {
   "cell_type": "code",
   "id": "initial_id",
   "metadata": {
    "collapsed": true,
    "ExecuteTime": {
     "end_time": "2025-03-08T06:13:33.856820Z",
     "start_time": "2025-03-08T06:13:33.839415Z"
    }
   },
   "source": [
    "# reading whole file\n",
    "with open('example.txt', 'r') as file:\n",
    "    content = file.read()\n",
    "    print(content)"
   ],
   "outputs": [
    {
     "name": "stdout",
     "output_type": "stream",
     "text": [
      "Line 1\n",
      "Line 2\n",
      "Line 3\n",
      "\n"
     ]
    }
   ],
   "execution_count": 9
  },
  {
   "metadata": {
    "ExecuteTime": {
     "end_time": "2025-03-08T06:20:18.960760Z",
     "start_time": "2025-03-08T06:20:18.944635Z"
    }
   },
   "cell_type": "code",
   "source": [
    "# reading line by line\n",
    "with open('example.txt', 'r') as file:\n",
    "    for line in file:\n",
    "        print(line.strip()) # strip() removes the newline character at the end of each line"
   ],
   "id": "e9c697617a166629",
   "outputs": [
    {
     "name": "stdout",
     "output_type": "stream",
     "text": [
      "Hello, world!\n",
      "This is a new line.\n",
      "This is an appended line.\n",
      "Line 1\n",
      "Line 2\n",
      "Line 3\n"
     ]
    }
   ],
   "execution_count": 15
  },
  {
   "metadata": {
    "ExecuteTime": {
     "end_time": "2025-03-08T06:38:49.204396Z",
     "start_time": "2025-03-08T06:38:49.194845Z"
    }
   },
   "cell_type": "code",
   "source": [
    "# writing to a file (overwriting)\n",
    "with open('example.txt', 'w') as file:\n",
    "    file.write('Hello, world!\\n')\n",
    "    file.write('This is a new line.\\n')"
   ],
   "id": "30bafaa1918c3416",
   "outputs": [],
   "execution_count": 31
  },
  {
   "metadata": {
    "ExecuteTime": {
     "end_time": "2025-03-08T06:14:16.841897Z",
     "start_time": "2025-03-08T06:14:16.832755Z"
    }
   },
   "cell_type": "code",
   "source": [
    "# appending to a file\n",
    "with open('example.txt', 'a') as file:\n",
    "    file.write('This is an appended line.\\n')"
   ],
   "id": "ab0e77dfb7c45f9c",
   "outputs": [],
   "execution_count": 12
  },
  {
   "metadata": {
    "ExecuteTime": {
     "end_time": "2025-03-08T06:38:22.039147Z",
     "start_time": "2025-03-08T06:38:22.023122Z"
    }
   },
   "cell_type": "code",
   "source": [
    "# writing a list of strings to a file\n",
    "lines = ['Line 1', 'Line 2', 'Line 3']\n",
    "with open('example.txt', 'w') as file:\n",
    "    for line in lines:\n",
    "        file.write(line + '\\n')"
   ],
   "id": "eb2f0673fb19e3b4",
   "outputs": [],
   "execution_count": 29
  },
  {
   "metadata": {
    "ExecuteTime": {
     "end_time": "2025-03-08T06:42:17.274505Z",
     "start_time": "2025-03-08T06:42:17.261384Z"
    }
   },
   "cell_type": "code",
   "source": [
    "# Reading a text file and counting the number of words, lines, and characters.\n",
    "def count_words_lines_chars(file_path):\n",
    "    with open(file_path, 'r') as file:\n",
    "        content = file.read()\n",
    "        words = content.split()\n",
    "        num_words = len(words)\n",
    "        num_lines = content.count('\\n') + (0 if content.endswith('\\n') else 1)\n",
    "        num_chars = len(content)\n",
    "        return num_words, num_lines, num_chars\n",
    "words, lines, chars = count_words_lines_chars('example.txt')\n",
    "print(f\"Words: {words}, Lines: {lines}, Characters: {chars}\")"
   ],
   "id": "f401afa57adf3f8",
   "outputs": [
    {
     "name": "stdout",
     "output_type": "stream",
     "text": [
      "Words: 2, Lines: 1, Characters: 13\n"
     ]
    }
   ],
   "execution_count": 34
  },
  {
   "metadata": {
    "ExecuteTime": {
     "end_time": "2025-03-08T07:01:48.315930Z",
     "start_time": "2025-03-08T07:01:48.301724Z"
    }
   },
   "cell_type": "code",
   "source": [
    "# copying a content from one file to another file\n",
    "def copy_file(source_file, destination_file):\n",
    "    with open(source_file, 'r') as source:\n",
    "        content = source.read()\n",
    "    with open(destination_file, 'w') as destination:\n",
    "        destination.write(content)\n",
    "copy_file('example.txt', 'destination.txt')"
   ],
   "id": "b1173b7b368f39d1",
   "outputs": [],
   "execution_count": 38
  },
  {
   "metadata": {
    "ExecuteTime": {
     "end_time": "2025-03-08T07:06:54.998283Z",
     "start_time": "2025-03-08T07:06:54.977554Z"
    }
   },
   "cell_type": "code",
   "source": [
    "# writing and reading a file\n",
    "with open('example_1.txt', 'w+') as file:\n",
    "    file.write('Hello, world!\\n')\n",
    "    file.write('This is a new line.\\n')\n",
    "    file.seek(0) # move the file pointer back to the beginning of the file\n",
    "    content = file.read()\n",
    "    print(content)"
   ],
   "id": "55d013272dac61eb",
   "outputs": [
    {
     "name": "stdout",
     "output_type": "stream",
     "text": [
      "\n"
     ]
    }
   ],
   "execution_count": 43
  },
  {
   "metadata": {
    "ExecuteTime": {
     "end_time": "2025-03-08T07:25:09.170663Z",
     "start_time": "2025-03-08T07:25:09.162629Z"
    }
   },
   "cell_type": "code",
   "source": "",
   "id": "d7357c46f948eb7",
   "outputs": [],
   "execution_count": null
  },
  {
   "metadata": {},
   "cell_type": "code",
   "outputs": [],
   "execution_count": null,
   "source": "",
   "id": "68540130812592f5"
  }
 ],
 "metadata": {
  "kernelspec": {
   "display_name": "Python 3",
   "language": "python",
   "name": "python3"
  },
  "language_info": {
   "codemirror_mode": {
    "name": "ipython",
    "version": 2
   },
   "file_extension": ".py",
   "mimetype": "text/x-python",
   "name": "python",
   "nbconvert_exporter": "python",
   "pygments_lexer": "ipython2",
   "version": "2.7.6"
  }
 },
 "nbformat": 4,
 "nbformat_minor": 5
}
