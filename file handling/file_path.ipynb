{
 "cells": [
  {
   "metadata": {
    "ExecuteTime": {
     "end_time": "2025-03-08T07:16:57.151174Z",
     "start_time": "2025-03-08T07:16:57.147520Z"
    }
   },
   "cell_type": "code",
   "source": [
    "# creating a new directory\n",
    "import os\n",
    "os.mkdir('new_directory')"
   ],
   "id": "4d986c76cefdf3fa",
   "outputs": [],
   "execution_count": 1
  },
  {
   "metadata": {
    "ExecuteTime": {
     "end_time": "2025-03-08T07:18:48.763624Z",
     "start_time": "2025-03-08T07:18:48.753333Z"
    }
   },
   "cell_type": "code",
   "source": [
    "# listing files and directories in the current directory\n",
    "lists = os.listdir()\n",
    "print(lists)"
   ],
   "id": "78a2a50d3ae8ce0f",
   "outputs": [
    {
     "name": "stdout",
     "output_type": "stream",
     "text": [
      "['example_1.txt', 'file_path.ipynb', 'destination.txt', 'new_directory', 'example.txt', 'file_handling.ipynb']\n"
     ]
    }
   ],
   "execution_count": 2
  },
  {
   "metadata": {
    "ExecuteTime": {
     "end_time": "2025-03-08T07:27:19.769379Z",
     "start_time": "2025-03-08T07:27:19.747579Z"
    }
   },
   "cell_type": "code",
   "source": [
    "# checking if a file exists\n",
    "if os.path.exists('example.txt'):\n",
    "    print('File exists')\n",
    "else:\n",
    "    print('File does not exist')"
   ],
   "id": "e1e052bf42171e99",
   "outputs": [
    {
     "name": "stdout",
     "output_type": "stream",
     "text": [
      "File exists\n"
     ]
    }
   ],
   "execution_count": 7
  },
  {
   "metadata": {
    "ExecuteTime": {
     "end_time": "2025-03-08T07:31:29.203507Z",
     "start_time": "2025-03-08T07:31:29.187269Z"
    }
   },
   "cell_type": "code",
   "source": [
    "# checking if a path is a file or directory\n",
    "if os.path.isfile('new_directory'):\n",
    "    print('It is a file')\n",
    "elif os.path.isdir('new_directory'):\n",
    "    print('It is a directory')\n",
    "else:\n",
    "    print('It is neither a file nor a directory')"
   ],
   "id": "2aea021bf38fadf6",
   "outputs": [
    {
     "name": "stdout",
     "output_type": "stream",
     "text": [
      "It is a directory\n"
     ]
    }
   ],
   "execution_count": 12
  }
 ],
 "metadata": {
  "kernelspec": {
   "display_name": "Python 3",
   "language": "python",
   "name": "python3"
  },
  "language_info": {
   "codemirror_mode": {
    "name": "ipython",
    "version": 2
   },
   "file_extension": ".py",
   "mimetype": "text/x-python",
   "name": "python",
   "nbconvert_exporter": "python",
   "pygments_lexer": "ipython2",
   "version": "2.7.6"
  }
 },
 "nbformat": 4,
 "nbformat_minor": 5
}
