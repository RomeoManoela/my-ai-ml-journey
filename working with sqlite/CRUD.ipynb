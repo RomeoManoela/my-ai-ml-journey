{
 "cells": [
  {
   "metadata": {},
   "cell_type": "markdown",
   "source": "# CRUD operations with sqlite3",
   "id": "526a6338edc43c43"
  },
  {
   "cell_type": "code",
   "id": "initial_id",
   "metadata": {
    "collapsed": true,
    "ExecuteTime": {
     "end_time": "2025-03-19T18:45:47.774451Z",
     "start_time": "2025-03-19T18:45:47.770523Z"
    }
   },
   "source": [
    "# importing the sqlite3 module\n",
    "import sqlite3\n",
    "# creating a connection to the database\n",
    "conn = sqlite3.connect('example.db')\n",
    "# creating a cursor object to execute SQL commands\n",
    "c = conn.cursor()"
   ],
   "outputs": [],
   "execution_count": 1
  },
  {
   "metadata": {
    "ExecuteTime": {
     "end_time": "2025-03-19T18:47:05.931378Z",
     "start_time": "2025-03-19T18:47:05.917342Z"
    }
   },
   "cell_type": "code",
   "source": [
    "# creating a table\n",
    "c.execute('''CREATE TABLE IF NOT EXISTS students\n",
    "             (id INTEGER PRIMARY KEY, name TEXT, age INTEGER)''')\n",
    "conn.commit()"
   ],
   "id": "1213c05bad7ef007",
   "outputs": [],
   "execution_count": 2
  },
  {
   "metadata": {
    "ExecuteTime": {
     "end_time": "2025-03-19T18:48:56.836780Z",
     "start_time": "2025-03-19T18:48:56.824990Z"
    }
   },
   "cell_type": "code",
   "source": [
    "# inserting data into the table\n",
    "c.execute('''INSERT INTO students (name, age)  VALUES ('John', 20)''')\n",
    "c.execute('''INSERT INTO students (name, age) VALUES ('Jane', 21)''')\n",
    "c.execute('''INSERT INTO students (name, age) VALUES ('Joe', 22)''')\n",
    "conn.commit()"
   ],
   "id": "982e02ef70660e2d",
   "outputs": [],
   "execution_count": 3
  },
  {
   "metadata": {
    "ExecuteTime": {
     "end_time": "2025-03-19T18:50:45.909862Z",
     "start_time": "2025-03-19T18:50:45.895781Z"
    }
   },
   "cell_type": "code",
   "source": [
    "# selecting data from the table\n",
    "c.execute('''SELECT * FROM students''')\n",
    "print(c.fetchall())"
   ],
   "id": "3e3e96220871a8e1",
   "outputs": [
    {
     "name": "stdout",
     "output_type": "stream",
     "text": [
      "[(1, 'John', 23), (3, 'Joe', 22)]\n"
     ]
    }
   ],
   "execution_count": 10
  },
  {
   "metadata": {
    "ExecuteTime": {
     "end_time": "2025-03-19T18:50:42.531610Z",
     "start_time": "2025-03-19T18:50:42.528302Z"
    }
   },
   "cell_type": "code",
   "source": [
    "# updating data in the table\n",
    "c.execute('''UPDATE students SET age = 23 WHERE name = 'John' ''')\n",
    "conn.commit()"
   ],
   "id": "dad058ece936189c",
   "outputs": [],
   "execution_count": 9
  },
  {
   "metadata": {
    "ExecuteTime": {
     "end_time": "2025-03-19T18:50:08.658935Z",
     "start_time": "2025-03-19T18:50:08.645463Z"
    }
   },
   "cell_type": "code",
   "source": [
    "# deleting data from the table\n",
    "c.execute('''DELETE FROM students WHERE name = 'Jane' ''')\n",
    "conn.commit()"
   ],
   "id": "cb7642e0d402c8f8",
   "outputs": [],
   "execution_count": 7
  },
  {
   "metadata": {},
   "cell_type": "code",
   "outputs": [],
   "execution_count": null,
   "source": "",
   "id": "c6b69177f9ffc9f2"
  }
 ],
 "metadata": {
  "kernelspec": {
   "display_name": "Python 3",
   "language": "python",
   "name": "python3"
  },
  "language_info": {
   "codemirror_mode": {
    "name": "ipython",
    "version": 2
   },
   "file_extension": ".py",
   "mimetype": "text/x-python",
   "name": "python",
   "nbconvert_exporter": "python",
   "pygments_lexer": "ipython2",
   "version": "2.7.6"
  }
 },
 "nbformat": 4,
 "nbformat_minor": 5
}
