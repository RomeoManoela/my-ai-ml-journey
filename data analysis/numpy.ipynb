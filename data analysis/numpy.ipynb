{
 "cells": [
  {
   "metadata": {},
   "cell_type": "markdown",
   "source": "## Numpy is python library for efficient numerical data manipulation.",
   "id": "1f6853cfaf93d05c"
  },
  {
   "metadata": {
    "ExecuteTime": {
     "end_time": "2025-03-09T05:19:20.967280Z",
     "start_time": "2025-03-09T05:19:20.956906Z"
    }
   },
   "cell_type": "code",
   "source": [
    "# one-dimensional array\n",
    "import numpy as np\n",
    "arr1 = np.array([1,2,3,4,5])\n",
    "print(arr1)\n",
    "arr1 = np.arange(10, 21, 2) # using arrange to create a np arr you can do also np.array([i for i in range(10, 21, 2)])using list comprehension to create a np arr\n",
    "print(arr1)"
   ],
   "id": "fad14f42265f75a1",
   "outputs": [
    {
     "name": "stdout",
     "output_type": "stream",
     "text": [
      "[1 2 3 4 5]\n",
      "[10 12 14 16 18 20]\n"
     ]
    }
   ],
   "execution_count": 6
  },
  {
   "metadata": {
    "ExecuteTime": {
     "end_time": "2025-03-09T05:15:26.701613Z",
     "start_time": "2025-03-09T05:15:26.691627Z"
    }
   },
   "cell_type": "code",
   "source": [
    "# two-dimensional array\n",
    "arr2 = np.array([[1,2,3,4,5],[1,2,3,4,5]])\n",
    "print(arr2)"
   ],
   "id": "36314964e361410a",
   "outputs": [
    {
     "name": "stdout",
     "output_type": "stream",
     "text": [
      "[[1 2 3 4 5]\n",
      " [1 2 3 4 5]]\n"
     ]
    }
   ],
   "execution_count": 3
  },
  {
   "metadata": {
    "ExecuteTime": {
     "end_time": "2025-03-09T05:22:39.569122Z",
     "start_time": "2025-03-09T05:22:39.561606Z"
    }
   },
   "cell_type": "code",
   "source": [
    "# three-dimensional array\n",
    "arr3 = np.array([\n",
    "    [[1,2,3,4,5],[1,2,3,4,5]],\n",
    "    [[1,2,3,4,5],[1,2,3,4,5]]\n",
    "])\n",
    "print(arr3)"
   ],
   "id": "1e13e09b0c1a1363",
   "outputs": [
    {
     "name": "stdout",
     "output_type": "stream",
     "text": [
      "[[[1 2 3 4 5]\n",
      "  [1 2 3 4 5]]\n",
      "\n",
      " [[1 2 3 4 5]\n",
      "  [1 2 3 4 5]]]\n"
     ]
    }
   ],
   "execution_count": 7
  },
  {
   "metadata": {
    "ExecuteTime": {
     "end_time": "2025-03-09T05:34:36.935191Z",
     "start_time": "2025-03-09T05:34:36.920849Z"
    }
   },
   "cell_type": "code",
   "source": [
    "# operations\n",
    "a = np.array([1,2,3])\n",
    "b = np.array([1,4,5])\n",
    " # addition\n",
    "print(\"addition: \" + str(a + b))\n",
    "# subtraction\n",
    "print(\"subtraction: \" + str(a - b))\n",
    "# multiplication\n",
    "print(\"multiplication: \" + str(a * b))\n",
    "# division\n",
    "print(\"division: \" + str(a / b))\n",
    "# scalar multiplication\n",
    "print(\"scalar multiplication: \" + str(np.dot(a, b)))"
   ],
   "id": "1bab10ff3e1ecb46",
   "outputs": [
    {
     "name": "stdout",
     "output_type": "stream",
     "text": [
      "addition: [2 6 8]\n",
      "subtraction: [ 0 -2 -2]\n",
      "multiplication: [ 1  8 15]\n",
      "division: [1.  0.5 0.6]\n",
      "scalar multiplication: 24\n"
     ]
    }
   ],
   "execution_count": 15
  },
  {
   "metadata": {
    "ExecuteTime": {
     "end_time": "2025-03-09T05:48:07.444737Z",
     "start_time": "2025-03-09T05:48:07.434850Z"
    }
   },
   "cell_type": "code",
   "source": [
    "# matrix multiplication\n",
    "a = np.array([[1,2],[4, 5]])\n",
    "b = np.array([[7, 8], [10,11]])\n",
    "print(\"matrix multiplication: \" + str(np.dot(a, b)))\n",
    "print(\"matrix addition: \" + str(a + b))\n",
    "\n",
    "# hadamard product\n",
    "print(\"hadamard product: \" + str(a * b))"
   ],
   "id": "d640c01b73bbcacc",
   "outputs": [
    {
     "name": "stdout",
     "output_type": "stream",
     "text": [
      "matrix multiplication: [[27 30]\n",
      " [78 87]]\n",
      "matrix addition: [[ 8 10]\n",
      " [14 16]]\n",
      "hadamard product: [[ 7 16]\n",
      " [40 55]]\n"
     ]
    }
   ],
   "execution_count": 23
  },
  {
   "metadata": {
    "ExecuteTime": {
     "end_time": "2025-03-09T05:51:48.525540Z",
     "start_time": "2025-03-09T05:51:48.510254Z"
    }
   },
   "cell_type": "code",
   "source": [
    "# indexing\n",
    "arr1 = np.arange(10)\n",
    "arr2 = np.array([[3,4,5],[1,2,5]])\n",
    "arr3 = np.array([\n",
    "    [[1,2,3,4,5],[1,2,3,4,5]],\n",
    "    [[1,2,3,4,5],[1,2,3,4,5]]\n",
    "])\n",
    "print(arr1[0])\n",
    "print(arr2[0,0])\n",
    "print(arr3[0,0,0])"
   ],
   "id": "62655cca07b3f7c8",
   "outputs": [
    {
     "name": "stdout",
     "output_type": "stream",
     "text": [
      "[1 2]\n",
      "1\n",
      "5\n"
     ]
    }
   ],
   "execution_count": 26
  },
  {
   "metadata": {
    "ExecuteTime": {
     "end_time": "2025-03-09T05:54:53.134424Z",
     "start_time": "2025-03-09T05:54:53.114045Z"
    }
   },
   "cell_type": "code",
   "source": [
    "# slicing\n",
    "\n",
    "print(arr1[0:3])\n",
    "print(arr2[0,2])\n",
    "print(arr3[0,0,0:3])"
   ],
   "id": "89968cbc241ff547",
   "outputs": [
    {
     "name": "stdout",
     "output_type": "stream",
     "text": [
      "[0 1 2]\n",
      "5\n",
      "[1 2 3]\n"
     ]
    }
   ],
   "execution_count": 29
  },
  {
   "metadata": {
    "ExecuteTime": {
     "end_time": "2025-03-09T05:58:08.622783Z",
     "start_time": "2025-03-09T05:58:08.616423Z"
    }
   },
   "cell_type": "code",
   "source": [
    "# reshape\n",
    "print(\"reshape arr1\", arr1.reshape(2,5))\n",
    "print(\"reshape arr2\", arr2.reshape(3,2))\n",
    "print(\"reshape arr3\", arr3.reshape(2,2,5))"
   ],
   "id": "966f533757fa751",
   "outputs": [
    {
     "name": "stdout",
     "output_type": "stream",
     "text": [
      "reshape arr1 [[0 1 2 3 4]\n",
      " [5 6 7 8 9]]\n",
      "reshape arr2 [[3 4]\n",
      " [5 1]\n",
      " [2 5]]\n",
      "reshape arr3 [[[1 2 3 4 5]\n",
      "  [1 2 3 4 5]]\n",
      "\n",
      " [[1 2 3 4 5]\n",
      "  [1 2 3 4 5]]]\n"
     ]
    }
   ],
   "execution_count": 32
  },
  {
   "metadata": {},
   "cell_type": "markdown",
   "source": "",
   "id": "434a881e2f779576"
  }
 ],
 "metadata": {
  "kernelspec": {
   "display_name": "Python 3",
   "language": "python",
   "name": "python3"
  },
  "language_info": {
   "codemirror_mode": {
    "name": "ipython",
    "version": 2
   },
   "file_extension": ".py",
   "mimetype": "text/x-python",
   "name": "python",
   "nbconvert_exporter": "python",
   "pygments_lexer": "ipython2",
   "version": "2.7.6"
  }
 },
 "nbformat": 4,
 "nbformat_minor": 5
}
