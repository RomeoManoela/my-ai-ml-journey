{
 "cells": [
  {
   "metadata": {},
   "cell_type": "markdown",
   "source": "## Numpy is python library for efficient numerical data manipulation.",
   "id": "1f6853cfaf93d05c"
  },
  {
   "metadata": {
    "ExecuteTime": {
     "end_time": "2025-03-19T06:44:14.775208Z",
     "start_time": "2025-03-19T06:44:14.597387Z"
    }
   },
   "cell_type": "code",
   "source": [
    "# one-dimensional array\n",
    "import numpy as np\n",
    "arr1 = np.array([1,2,3,4,5])\n",
    "print(arr1)\n",
    "arr1 = np.arange(10, 21, 2) # using arrange to create a np arr you can do also np.array([i for i in range(10, 21, 2)])using list comprehension to create a np arr\n",
    "print(arr1)"
   ],
   "id": "fad14f42265f75a1",
   "outputs": [
    {
     "name": "stdout",
     "output_type": "stream",
     "text": [
      "[1 2 3 4 5]\n",
      "[10 12 14 16 18 20]\n"
     ]
    }
   ],
   "execution_count": 2
  },
  {
   "metadata": {
    "ExecuteTime": {
     "end_time": "2025-03-09T05:15:26.701613Z",
     "start_time": "2025-03-09T05:15:26.691627Z"
    }
   },
   "cell_type": "code",
   "source": [
    "# two-dimensional array\n",
    "arr2 = np.array([[1,2,3,4,5],[1,2,3,4,5]])\n",
    "print(arr2)"
   ],
   "id": "36314964e361410a",
   "outputs": [
    {
     "name": "stdout",
     "output_type": "stream",
     "text": [
      "[[1 2 3 4 5]\n",
      " [1 2 3 4 5]]\n"
     ]
    }
   ],
   "execution_count": 3
  },
  {
   "metadata": {
    "ExecuteTime": {
     "end_time": "2025-03-09T05:22:39.569122Z",
     "start_time": "2025-03-09T05:22:39.561606Z"
    }
   },
   "cell_type": "code",
   "source": [
    "# three-dimensional array\n",
    "arr3 = np.array([\n",
    "    [[1,2,3,4,5],[1,2,3,4,5]],\n",
    "    [[1,2,3,4,5],[1,2,3,4,5]]\n",
    "])\n",
    "print(arr3)"
   ],
   "id": "1e13e09b0c1a1363",
   "outputs": [
    {
     "name": "stdout",
     "output_type": "stream",
     "text": [
      "[[[1 2 3 4 5]\n",
      "  [1 2 3 4 5]]\n",
      "\n",
      " [[1 2 3 4 5]\n",
      "  [1 2 3 4 5]]]\n"
     ]
    }
   ],
   "execution_count": 7
  },
  {
   "metadata": {
    "ExecuteTime": {
     "end_time": "2025-03-09T05:34:36.935191Z",
     "start_time": "2025-03-09T05:34:36.920849Z"
    }
   },
   "cell_type": "code",
   "source": [
    "# operations\n",
    "a = np.array([1,2,3])\n",
    "b = np.array([1,4,5])\n",
    " # addition\n",
    "print(\"addition: \" + str(a + b))\n",
    "# subtraction\n",
    "print(\"subtraction: \" + str(a - b))\n",
    "# multiplication\n",
    "print(\"multiplication: \" + str(a * b))\n",
    "# division\n",
    "print(\"division: \" + str(a / b))\n",
    "# scalar multiplication\n",
    "print(\"scalar multiplication: \" + str(np.dot(a, b)))"
   ],
   "id": "1bab10ff3e1ecb46",
   "outputs": [
    {
     "name": "stdout",
     "output_type": "stream",
     "text": [
      "addition: [2 6 8]\n",
      "subtraction: [ 0 -2 -2]\n",
      "multiplication: [ 1  8 15]\n",
      "division: [1.  0.5 0.6]\n",
      "scalar multiplication: 24\n"
     ]
    }
   ],
   "execution_count": 15
  },
  {
   "metadata": {
    "ExecuteTime": {
     "end_time": "2025-03-09T05:48:07.444737Z",
     "start_time": "2025-03-09T05:48:07.434850Z"
    }
   },
   "cell_type": "code",
   "source": [
    "# matrix multiplication\n",
    "a = np.array([[1,2],[4, 5]])\n",
    "b = np.array([[7, 8], [10,11]])\n",
    "print(\"matrix multiplication: \" + str(np.dot(a, b)))\n",
    "print(\"matrix addition: \" + str(a + b))\n",
    "\n",
    "# hadamard product\n",
    "print(\"hadamard product: \" + str(a * b))"
   ],
   "id": "d640c01b73bbcacc",
   "outputs": [
    {
     "name": "stdout",
     "output_type": "stream",
     "text": [
      "matrix multiplication: [[27 30]\n",
      " [78 87]]\n",
      "matrix addition: [[ 8 10]\n",
      " [14 16]]\n",
      "hadamard product: [[ 7 16]\n",
      " [40 55]]\n"
     ]
    }
   ],
   "execution_count": 23
  },
  {
   "metadata": {
    "ExecuteTime": {
     "end_time": "2025-03-09T05:51:48.525540Z",
     "start_time": "2025-03-09T05:51:48.510254Z"
    }
   },
   "cell_type": "code",
   "source": [
    "# indexing\n",
    "arr1 = np.arange(10)\n",
    "arr2 = np.array([[3,4,5],[1,2,5]])\n",
    "arr3 = np.array([\n",
    "    [[1,2,3,4,5],[1,2,3,4,5]],\n",
    "    [[1,2,3,4,5],[1,2,3,4,5]]\n",
    "])\n",
    "print(arr1[0])\n",
    "print(arr2[0,0])\n",
    "print(arr3[0,0,0])"
   ],
   "id": "62655cca07b3f7c8",
   "outputs": [
    {
     "name": "stdout",
     "output_type": "stream",
     "text": [
      "[1 2]\n",
      "1\n",
      "5\n"
     ]
    }
   ],
   "execution_count": 26
  },
  {
   "metadata": {
    "ExecuteTime": {
     "end_time": "2025-03-09T05:54:53.134424Z",
     "start_time": "2025-03-09T05:54:53.114045Z"
    }
   },
   "cell_type": "code",
   "source": [
    "# slicing\n",
    "\n",
    "print(arr1[0:3])\n",
    "print(arr2[0,2])\n",
    "print(arr3[0,0,0:3])"
   ],
   "id": "89968cbc241ff547",
   "outputs": [
    {
     "name": "stdout",
     "output_type": "stream",
     "text": [
      "[0 1 2]\n",
      "5\n",
      "[1 2 3]\n"
     ]
    }
   ],
   "execution_count": 29
  },
  {
   "metadata": {
    "ExecuteTime": {
     "end_time": "2025-03-09T05:58:08.622783Z",
     "start_time": "2025-03-09T05:58:08.616423Z"
    }
   },
   "cell_type": "code",
   "source": [
    "# reshape\n",
    "print(\"reshape arr1\", arr1.reshape(2,5))\n",
    "print(\"reshape arr2\", arr2.reshape(3,2))\n",
    "print(\"reshape arr3\", arr3.reshape(2,2,5))"
   ],
   "id": "966f533757fa751",
   "outputs": [
    {
     "name": "stdout",
     "output_type": "stream",
     "text": [
      "reshape arr1 [[0 1 2 3 4]\n",
      " [5 6 7 8 9]]\n",
      "reshape arr2 [[3 4]\n",
      " [5 1]\n",
      " [2 5]]\n",
      "reshape arr3 [[[1 2 3 4 5]\n",
      "  [1 2 3 4 5]]\n",
      "\n",
      " [[1 2 3 4 5]\n",
      "  [1 2 3 4 5]]]\n"
     ]
    }
   ],
   "execution_count": 32
  },
  {
   "metadata": {},
   "cell_type": "markdown",
   "source": "",
   "id": "434a881e2f779576"
  },
  {
   "metadata": {},
   "cell_type": "code",
   "outputs": [],
   "execution_count": null,
   "source": "print(np.empty((3,3)))",
   "id": "2544156e3f824b8d"
  },
  {
   "metadata": {},
   "cell_type": "markdown",
   "source": "# numpy functions",
   "id": "7d8d3acd0ea12bd4"
  },
  {
   "metadata": {
    "ExecuteTime": {
     "end_time": "2025-03-19T06:59:49.755688Z",
     "start_time": "2025-03-19T06:59:49.740056Z"
    }
   },
   "cell_type": "code",
   "source": [
    "print(np.zeros((3,3), dtype=int))\n",
    "print('___'*10)\n",
    "print(np.ones((3,3), dtype=complex))\n",
    "print('___'*10)\n",
    "print(np.full((3,3), 52))\n",
    "print('___'*10)\n",
    "print(np.eye(4))\n",
    "print('___'*10)\n",
    "print(np.random.random((3,3)))\n",
    "print('___'*10)\n",
    "print(np.random.randint(0, 11, (3,3)))\n",
    "print('___'*10)\n",
    "print(np.linspace(0, 10, 5))\n",
    "print('___'*10)\n",
    "print(np.arange(0, 10, 2))\n",
    "print('___'*10)\n",
    "print(np.cos(np.linspace(0, np.pi, 3)))\n",
    "print('___'*10)"
   ],
   "id": "1d811ce722f165c0",
   "outputs": [
    {
     "name": "stdout",
     "output_type": "stream",
     "text": [
      "[[0 0 0]\n",
      " [0 0 0]\n",
      " [0 0 0]]\n",
      "______________________________\n",
      "[[1.+0.j 1.+0.j 1.+0.j]\n",
      " [1.+0.j 1.+0.j 1.+0.j]\n",
      " [1.+0.j 1.+0.j 1.+0.j]]\n",
      "______________________________\n",
      "[[52 52 52]\n",
      " [52 52 52]\n",
      " [52 52 52]]\n",
      "______________________________\n",
      "[[1. 0. 0. 0.]\n",
      " [0. 1. 0. 0.]\n",
      " [0. 0. 1. 0.]\n",
      " [0. 0. 0. 1.]]\n",
      "______________________________\n",
      "[[0.0130961  0.90015854 0.83062329]\n",
      " [0.14140271 0.40997063 0.36854863]\n",
      " [0.49623057 0.58915607 0.07017417]]\n",
      "______________________________\n",
      "[[ 5  0  2]\n",
      " [ 4  6  9]\n",
      " [10  7  4]]\n",
      "______________________________\n",
      "[ 0.   2.5  5.   7.5 10. ]\n",
      "______________________________\n",
      "[0 2 4 6 8]\n",
      "______________________________\n",
      "[ 1.000000e+00  6.123234e-17 -1.000000e+00]\n",
      "______________________________\n"
     ]
    }
   ],
   "execution_count": 43
  }
 ],
 "metadata": {
  "kernelspec": {
   "display_name": "Python 3",
   "language": "python",
   "name": "python3"
  },
  "language_info": {
   "codemirror_mode": {
    "name": "ipython",
    "version": 2
   },
   "file_extension": ".py",
   "mimetype": "text/x-python",
   "name": "python",
   "nbconvert_exporter": "python",
   "pygments_lexer": "ipython2",
   "version": "2.7.6"
  }
 },
 "nbformat": 4,
 "nbformat_minor": 5
}
