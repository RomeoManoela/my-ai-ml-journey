{
 "cells": [
  {
   "metadata": {},
   "cell_type": "markdown",
   "source": [
    "# Data Manipulation Exercise\n",
    "01 : Objectif :\n",
    "Charger un DataFrame avec des valeurs aléatoires.\n",
    "Ajouter une colonne \"Performance\" basée sur \"Score\" (> 80 = \"Élevée\", sinon \"Moyenne\").\n",
    "Trier le DataFrame par \"Score\" décroissant.\n",
    "Remplacer les NaN par -1."
   ],
   "id": "2d2538dfa1ced86"
  },
  {
   "metadata": {
    "ExecuteTime": {
     "end_time": "2025-03-14T07:07:04.814094Z",
     "start_time": "2025-03-14T07:07:04.129565Z"
    }
   },
   "cell_type": "code",
   "source": [
    "import pandas as pd\n",
    "import numpy as np\n",
    "df = pd.DataFrame(np.random.randint(0, 100, size=(10, 3)), columns=list('ABC'))\n",
    "print(df)"
   ],
   "id": "95c32e362cd48a16",
   "outputs": [
    {
     "name": "stdout",
     "output_type": "stream",
     "text": [
      "    A   B   C\n",
      "0   3  85  30\n",
      "1  43  80   0\n",
      "2  96  74  32\n",
      "3   2  62  51\n",
      "4  92  20  76\n",
      "5   4  15  68\n",
      "6  94  34  78\n",
      "7  13  38  93\n",
      "8  44  65  18\n",
      "9  21  67  59\n"
     ]
    }
   ],
   "execution_count": 1
  }
 ],
 "metadata": {
  "kernelspec": {
   "display_name": "Python 3",
   "language": "python",
   "name": "python3"
  },
  "language_info": {
   "codemirror_mode": {
    "name": "ipython",
    "version": 2
   },
   "file_extension": ".py",
   "mimetype": "text/x-python",
   "name": "python",
   "nbconvert_exporter": "python",
   "pygments_lexer": "ipython2",
   "version": "2.7.6"
  }
 },
 "nbformat": 4,
 "nbformat_minor": 5
}
