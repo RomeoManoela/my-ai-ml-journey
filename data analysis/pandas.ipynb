{
 "cells": [
  {
   "metadata": {},
   "cell_type": "markdown",
   "source": "## Pandas is python library for efficient data manipulation.",
   "id": "44042a93774aa030"
  },
  {
   "metadata": {},
   "cell_type": "markdown",
   "source": "### Dataframe and series",
   "id": "fe5de2d6b13e2abe"
  },
  {
   "metadata": {
    "ExecuteTime": {
     "end_time": "2025-03-12T03:36:25.087528Z",
     "start_time": "2025-03-12T03:36:25.063168Z"
    }
   },
   "cell_type": "code",
   "source": [
    "import pandas as pd\n",
    "# dataframe is a table of data\n",
    "df = pd.DataFrame({\n",
    "    'name': ['John', 'Jane', 'Joe'],\n",
    "    'age': [20, 21, 22],\n",
    "    'city': ['New York', 'London', 'Paris']\n",
    "})\n",
    "print(df)"
   ],
   "id": "c4d3b79411b36ff4",
   "outputs": [
    {
     "name": "stdout",
     "output_type": "stream",
     "text": [
      "   name  age      city\n",
      "0  John   20  New York\n",
      "1  Jane   21    London\n",
      "2   Joe   22     Paris\n"
     ]
    }
   ],
   "execution_count": 2
  },
  {
   "metadata": {
    "ExecuteTime": {
     "end_time": "2025-03-12T03:42:41.105247Z",
     "start_time": "2025-03-12T03:42:41.096879Z"
    }
   },
   "cell_type": "code",
   "source": [
    "# each column is a series\n",
    "name = df['name']\n",
    "print(name)\n",
    "age = df['age']\n",
    "print(age.max())"
   ],
   "id": "2b1e12e38f01aad5",
   "outputs": [
    {
     "name": "stdout",
     "output_type": "stream",
     "text": [
      "0    John\n",
      "1    Jane\n",
      "2     Joe\n",
      "Name: name, dtype: object\n",
      "22\n"
     ]
    }
   ],
   "execution_count": 6
  },
  {
   "metadata": {
    "ExecuteTime": {
     "end_time": "2025-03-12T03:46:25.241880Z",
     "start_time": "2025-03-12T03:46:25.211348Z"
    }
   },
   "cell_type": "code",
   "source": [
    "# create a series from a list\n",
    "new_series_name = 'salary'\n",
    "s = pd.Series([1000, 5000, 800], name=new_series_name)\n",
    "print(s)\n",
    "df[new_series_name] = s\n",
    "print(df)"
   ],
   "id": "15b209b54f1701c6",
   "outputs": [
    {
     "name": "stdout",
     "output_type": "stream",
     "text": [
      "0    1000\n",
      "1    5000\n",
      "2     800\n",
      "Name: salary, dtype: int64\n",
      "   name  age      city  salary\n",
      "0  John   20  New York    1000\n",
      "1  Jane   21    London    5000\n",
      "2   Joe   22     Paris     800\n"
     ]
    }
   ],
   "execution_count": 7
  },
  {
   "metadata": {
    "ExecuteTime": {
     "end_time": "2025-03-12T03:49:49.051246Z",
     "start_time": "2025-03-12T03:49:49.033489Z"
    }
   },
   "cell_type": "code",
   "source": [
    "# access an element in a dataframe\n",
    "print(df.loc[0])\n",
    "print('___')\n",
    "print(df.loc[0, 'name'])"
   ],
   "id": "aed65f5486b49b23",
   "outputs": [
    {
     "name": "stdout",
     "output_type": "stream",
     "text": [
      "name          John\n",
      "age             20\n",
      "city      New York\n",
      "salary        1000\n",
      "Name: 0, dtype: object\n",
      "___\n",
      "John\n"
     ]
    }
   ],
   "execution_count": 9
  },
  {
   "metadata": {},
   "cell_type": "code",
   "outputs": [],
   "execution_count": null,
   "source": "",
   "id": "16d81d1ed2a7155c"
  }
 ],
 "metadata": {
  "kernelspec": {
   "display_name": "Python 3",
   "language": "python",
   "name": "python3"
  },
  "language_info": {
   "codemirror_mode": {
    "name": "ipython",
    "version": 2
   },
   "file_extension": ".py",
   "mimetype": "text/x-python",
   "name": "python",
   "nbconvert_exporter": "python",
   "pygments_lexer": "ipython2",
   "version": "2.7.6"
  }
 },
 "nbformat": 4,
 "nbformat_minor": 5
}
