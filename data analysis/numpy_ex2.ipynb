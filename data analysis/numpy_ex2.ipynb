{
 "cells": [
  {
   "metadata": {},
   "cell_type": "markdown",
   "source": "# Debutant",
   "id": "7e3f80e223cf2b6a"
  },
  {
   "metadata": {
    "ExecuteTime": {
     "end_time": "2025-03-19T05:05:22.770383Z",
     "start_time": "2025-03-19T05:05:22.516421Z"
    }
   },
   "cell_type": "code",
   "source": "import numpy as np\n",
   "id": "ffa1a463dfa64e97",
   "outputs": [],
   "execution_count": 2
  },
  {
   "metadata": {
    "ExecuteTime": {
     "end_time": "2025-03-14T07:24:41.315205Z",
     "start_time": "2025-03-14T07:24:41.295944Z"
    }
   },
   "cell_type": "code",
   "source": [
    "# un tableau de 10 zeros\n",
    "zeros = np.zeros(10, dtype=int)\n",
    "print(zeros)"
   ],
   "id": "f4b67b24c57c5790",
   "outputs": [
    {
     "name": "stdout",
     "output_type": "stream",
     "text": [
      "[0 0 0 0 0 0 0 0 0 0]\n"
     ]
    }
   ],
   "execution_count": 9
  },
  {
   "metadata": {
    "ExecuteTime": {
     "end_time": "2025-03-14T07:24:48.702588Z",
     "start_time": "2025-03-14T07:24:48.694315Z"
    }
   },
   "cell_type": "code",
   "source": [
    "# un tableau de 10 uns\n",
    "ones = np.ones(10, dtype=int)\n",
    "print(ones)"
   ],
   "id": "307a277c6745c3ca",
   "outputs": [
    {
     "name": "stdout",
     "output_type": "stream",
     "text": [
      "[1 1 1 1 1 1 1 1 1 1]\n"
     ]
    }
   ],
   "execution_count": 10
  },
  {
   "metadata": {
    "ExecuteTime": {
     "end_time": "2025-03-14T07:23:38.621330Z",
     "start_time": "2025-03-14T07:23:38.601972Z"
    }
   },
   "cell_type": "code",
   "source": [
    "# un tableau contenant les nombres de 1 a 10\n",
    "arr = np.arange(10)\n",
    "print(arr)"
   ],
   "id": "309f2c951e61a55e",
   "outputs": [
    {
     "name": "stdout",
     "output_type": "stream",
     "text": [
      "[0 1 2 3 4 5 6 7 8 9]\n"
     ]
    }
   ],
   "execution_count": 8
  },
  {
   "metadata": {
    "ExecuteTime": {
     "end_time": "2025-03-14T07:40:04.381410Z",
     "start_time": "2025-03-14T07:40:04.364999Z"
    }
   },
   "cell_type": "code",
   "source": [
    "# un tableau de 10 nombres aleatoire entre 0 à 1\n",
    "arr = np.random.random(size=10)\n",
    "print(arr)"
   ],
   "id": "33573b90a6e8912f",
   "outputs": [
    {
     "name": "stdout",
     "output_type": "stream",
     "text": [
      "[0.2402163  0.2650349  0.11346201 0.23655214 0.05090717 0.12741703\n",
      " 0.28442898 0.16728664 0.30134598 0.15644409]\n"
     ]
    }
   ],
   "execution_count": 20
  },
  {
   "metadata": {
    "ExecuteTime": {
     "end_time": "2025-03-14T07:40:18.004417Z",
     "start_time": "2025-03-14T07:40:17.971770Z"
    }
   },
   "cell_type": "code",
   "source": [
    "# un tableau de 10 nombres aléatoires entre 10 à 100\n",
    "arr = np.random.uniform(10, 100, size=10)\n",
    "print(arr)"
   ],
   "id": "bdb799fa1d0fdfda",
   "outputs": [
    {
     "name": "stdout",
     "output_type": "stream",
     "text": [
      "[87.50805932 73.590984   22.96299867 13.61499228 80.59311411 90.28341386\n",
      " 92.36687571 14.24927539 12.45943002 93.03772671]\n"
     ]
    }
   ],
   "execution_count": 21
  },
  {
   "metadata": {
    "ExecuteTime": {
     "end_time": "2025-03-14T07:39:12.372715Z",
     "start_time": "2025-03-14T07:39:12.366930Z"
    }
   },
   "cell_type": "code",
   "source": [
    "# modification d'un tableau, prend un tableau de [1, 2, 3, 4, 5] et multiplie par deux\n",
    "arr = np.arange(1, 6)\n",
    "print(arr)\n",
    "arr = arr * 2\n",
    "print(arr)"
   ],
   "id": "4bedd5dd0818686e",
   "outputs": [
    {
     "name": "stdout",
     "output_type": "stream",
     "text": [
      "[1 2 3 4 5]\n",
      "[ 2  4  6  8 10]\n"
     ]
    }
   ],
   "execution_count": 19
  },
  {
   "metadata": {
    "ExecuteTime": {
     "end_time": "2025-03-14T08:31:29.390588Z",
     "start_time": "2025-03-14T08:31:29.383325Z"
    }
   },
   "cell_type": "code",
   "source": [
    "# extrait les éléments supérieurs à 50 dans un tableau de 20 nombres aléatoires entre 0 et 100\n",
    "arr = np.random.randint(0, 100, size=20)\n",
    "print(arr)\n",
    "print(arr[arr > 50])"
   ],
   "id": "9ebfa684341ef23e",
   "outputs": [
    {
     "name": "stdout",
     "output_type": "stream",
     "text": [
      "[33 87 51 42  2 17 85 24 56 57 63 17 37 46 44  6 10 11 50 69]\n",
      "[87 51 85 56 57 63 69]\n"
     ]
    }
   ],
   "execution_count": 6
  },
  {
   "metadata": {},
   "cell_type": "markdown",
   "source": "# Intermédiaire",
   "id": "fa94bdfa8556f23d"
  },
  {
   "metadata": {
    "ExecuteTime": {
     "end_time": "2025-03-19T05:26:11.682108Z",
     "start_time": "2025-03-19T05:26:11.670185Z"
    }
   },
   "cell_type": "code",
   "source": [
    "# Création et manipulation d'une matrice\n",
    "#→ Crée une matrice 3×3 de nombres entiers aléatoires entre 1 et 50 et remplace la diagonale principale par des 0.\n",
    "matrice = np.random.randint(1, 50, (3, 3))\n",
    "\n",
    "print(matrice)\n",
    "print('___'*10)\n",
    "\n",
    "np.fill_diagonal(matrice, 0)\n",
    "\n",
    "# for i in range(len(matrice)):\n",
    "#     for j in range(len(matrice[i])):\n",
    "#         if i == j:\n",
    "#             matrice[i][j] = 0\n",
    "print(matrice)\n"
   ],
   "id": "c10017c1f02350e3",
   "outputs": [
    {
     "name": "stdout",
     "output_type": "stream",
     "text": [
      "[[26  7 37]\n",
      " [22 24  6]\n",
      " [ 1 28 44]]\n",
      "______________________________\n",
      "[[ 0  7 37]\n",
      " [22  0  6]\n",
      " [ 1 28  0]]\n"
     ]
    }
   ],
   "execution_count": 6
  },
  {
   "metadata": {
    "ExecuteTime": {
     "end_time": "2025-03-19T05:05:27.583387Z",
     "start_time": "2025-03-19T05:05:27.502643Z"
    }
   },
   "cell_type": "code",
   "source": [
    "# somme et moyenne d'un tableau\n",
    "#→ Crée un tableau de 100 nombres aléatoires entre 0 et 500 et affiche sa somme et sa moyenne.\n",
    "tab = np.array(np.random.randint(0, 500, size=100))\n",
    "print(tab)\n",
    "print('_'*10)\n",
    "print(tab.sum())\n",
    "print('_'*10)\n",
    "print(tab.mean())"
   ],
   "id": "88ba2061654e6c8f",
   "outputs": [
    {
     "name": "stdout",
     "output_type": "stream",
     "text": [
      "[364 286 123  67 428  71 456 272 430 263 170 163 216 365 318 189  72 441\n",
      " 285 276 490 414 378 100 402 165 186 430 253  46  38 242  78 135 426  51\n",
      "  35  34 164 183 367 415 390 179 397 333 284 493 322 438 273 227 150  70\n",
      " 382 194 344 475 135 405 235  90 386 376 377 222 372 430 191 112 327   3\n",
      " 359 259  44 190 373 223 303 258  60 218 393 455  70  43 249 483 429 474\n",
      "  77 460 127 103 306 438 393 141 158 222]\n",
      "__________\n",
      "26207\n",
      "__________\n",
      "262.07\n"
     ]
    }
   ],
   "execution_count": 3
  },
  {
   "metadata": {
    "ExecuteTime": {
     "end_time": "2025-03-19T05:16:47.300450Z",
     "start_time": "2025-03-19T05:16:47.285404Z"
    }
   },
   "cell_type": "code",
   "source": [
    "# Trouver les valeurs maximales et minimales\n",
    "#→ Génère un tableau de 20 nombres aléatoires et trouve les indices de la valeur maximale et minimale.\n",
    "tab = np.random.randint(0, 100, size=20)\n",
    "index_max = np.argmax(tab)\n",
    "index_min = np.argmin(tab)\n",
    "print(tab)\n",
    "print('_'*10)\n",
    "print(index_max)\n",
    "print('_'*10)\n",
    "print(index_min)"
   ],
   "id": "40a42ced9a8666b1",
   "outputs": [
    {
     "name": "stdout",
     "output_type": "stream",
     "text": [
      "[60 48 96  6 11 14 35 94 66 58 88 97 56 51 68 32 96 67 42  8]\n",
      "__________\n",
      "11\n",
      "__________\n",
      "3\n"
     ]
    }
   ],
   "execution_count": 5
  },
  {
   "metadata": {
    "ExecuteTime": {
     "end_time": "2025-03-19T05:28:58.223077Z",
     "start_time": "2025-03-19T05:28:58.209116Z"
    }
   },
   "cell_type": "code",
   "source": [
    "# Filtrage de valeurs\n",
    "#→ Crée un tableau de 15 valeurs entre 1 et 100 et ne conserve que les valeurs paires\n",
    "tab = np.random.randint(1, 100, size=15)\n",
    "paires = tab[tab % 2 == 0 ]\n",
    "print(paires)\n",
    "print('_'*10)\n",
    "print(tab)\n"
   ],
   "id": "4a02a8aa93e9718f",
   "outputs": [
    {
     "name": "stdout",
     "output_type": "stream",
     "text": [
      "[32 26 10 30 20  8 30]\n",
      "__________\n",
      "[45 32 26 10 30 20  8 91 77 43 33 81 89 51 30]\n"
     ]
    }
   ],
   "execution_count": 7
  }
 ],
 "metadata": {
  "kernelspec": {
   "display_name": "Python 3",
   "language": "python",
   "name": "python3"
  },
  "language_info": {
   "codemirror_mode": {
    "name": "ipython",
    "version": 2
   },
   "file_extension": ".py",
   "mimetype": "text/x-python",
   "name": "python",
   "nbconvert_exporter": "python",
   "pygments_lexer": "ipython2",
   "version": "2.7.6"
  }
 },
 "nbformat": 4,
 "nbformat_minor": 5
}
