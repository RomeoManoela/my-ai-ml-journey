{
 "cells": [
  {
   "metadata": {},
   "cell_type": "markdown",
   "source": "# Debutant",
   "id": "7e3f80e223cf2b6a"
  },
  {
   "metadata": {
    "ExecuteTime": {
     "end_time": "2025-03-14T08:29:16.108085Z",
     "start_time": "2025-03-14T08:29:15.870308Z"
    }
   },
   "cell_type": "code",
   "source": "import numpy as np\n",
   "id": "ffa1a463dfa64e97",
   "outputs": [],
   "execution_count": 2
  },
  {
   "metadata": {
    "ExecuteTime": {
     "end_time": "2025-03-14T07:24:41.315205Z",
     "start_time": "2025-03-14T07:24:41.295944Z"
    }
   },
   "cell_type": "code",
   "source": [
    "# un tableau de 10 zeros\n",
    "zeros = np.zeros(10, dtype=int)\n",
    "print(zeros)"
   ],
   "id": "f4b67b24c57c5790",
   "outputs": [
    {
     "name": "stdout",
     "output_type": "stream",
     "text": [
      "[0 0 0 0 0 0 0 0 0 0]\n"
     ]
    }
   ],
   "execution_count": 9
  },
  {
   "metadata": {
    "ExecuteTime": {
     "end_time": "2025-03-14T07:24:48.702588Z",
     "start_time": "2025-03-14T07:24:48.694315Z"
    }
   },
   "cell_type": "code",
   "source": [
    "# un tableau de 10 uns\n",
    "ones = np.ones(10, dtype=int)\n",
    "print(ones)"
   ],
   "id": "307a277c6745c3ca",
   "outputs": [
    {
     "name": "stdout",
     "output_type": "stream",
     "text": [
      "[1 1 1 1 1 1 1 1 1 1]\n"
     ]
    }
   ],
   "execution_count": 10
  },
  {
   "metadata": {
    "ExecuteTime": {
     "end_time": "2025-03-14T07:23:38.621330Z",
     "start_time": "2025-03-14T07:23:38.601972Z"
    }
   },
   "cell_type": "code",
   "source": [
    "# un tableau contenant les nombres de 1 a 10\n",
    "arr = np.arange(10)\n",
    "print(arr)"
   ],
   "id": "309f2c951e61a55e",
   "outputs": [
    {
     "name": "stdout",
     "output_type": "stream",
     "text": [
      "[0 1 2 3 4 5 6 7 8 9]\n"
     ]
    }
   ],
   "execution_count": 8
  },
  {
   "metadata": {
    "ExecuteTime": {
     "end_time": "2025-03-14T07:40:04.381410Z",
     "start_time": "2025-03-14T07:40:04.364999Z"
    }
   },
   "cell_type": "code",
   "source": [
    "# un tableau de 10 nombres aleatoire entre 0 à 1\n",
    "arr = np.random.random(size=10)\n",
    "print(arr)"
   ],
   "id": "33573b90a6e8912f",
   "outputs": [
    {
     "name": "stdout",
     "output_type": "stream",
     "text": [
      "[0.2402163  0.2650349  0.11346201 0.23655214 0.05090717 0.12741703\n",
      " 0.28442898 0.16728664 0.30134598 0.15644409]\n"
     ]
    }
   ],
   "execution_count": 20
  },
  {
   "metadata": {
    "ExecuteTime": {
     "end_time": "2025-03-14T07:40:18.004417Z",
     "start_time": "2025-03-14T07:40:17.971770Z"
    }
   },
   "cell_type": "code",
   "source": [
    "# un tableau de 10 nombres aléatoires entre 10 à 100\n",
    "arr = np.random.uniform(10, 100, size=10)\n",
    "print(arr)"
   ],
   "id": "bdb799fa1d0fdfda",
   "outputs": [
    {
     "name": "stdout",
     "output_type": "stream",
     "text": [
      "[87.50805932 73.590984   22.96299867 13.61499228 80.59311411 90.28341386\n",
      " 92.36687571 14.24927539 12.45943002 93.03772671]\n"
     ]
    }
   ],
   "execution_count": 21
  },
  {
   "metadata": {
    "ExecuteTime": {
     "end_time": "2025-03-14T07:39:12.372715Z",
     "start_time": "2025-03-14T07:39:12.366930Z"
    }
   },
   "cell_type": "code",
   "source": [
    "# modification d'un tableau, prend un tableau de [1, 2, 3, 4, 5] et multiplie par deux\n",
    "arr = np.arange(1, 6)\n",
    "print(arr)\n",
    "arr = arr * 2\n",
    "print(arr)"
   ],
   "id": "4bedd5dd0818686e",
   "outputs": [
    {
     "name": "stdout",
     "output_type": "stream",
     "text": [
      "[1 2 3 4 5]\n",
      "[ 2  4  6  8 10]\n"
     ]
    }
   ],
   "execution_count": 19
  },
  {
   "metadata": {
    "ExecuteTime": {
     "end_time": "2025-03-14T08:31:29.390588Z",
     "start_time": "2025-03-14T08:31:29.383325Z"
    }
   },
   "cell_type": "code",
   "source": [
    "# extrait les éléments supérieurs à 50 dans un tableau de 20 nombres aléatoires entre 0 et 100\n",
    "arr = np.random.randint(0, 100, size=20)\n",
    "print(arr)\n",
    "print(arr[arr > 50])"
   ],
   "id": "9ebfa684341ef23e",
   "outputs": [
    {
     "name": "stdout",
     "output_type": "stream",
     "text": [
      "[33 87 51 42  2 17 85 24 56 57 63 17 37 46 44  6 10 11 50 69]\n",
      "[87 51 85 56 57 63 69]\n"
     ]
    }
   ],
   "execution_count": 6
  },
  {
   "metadata": {},
   "cell_type": "markdown",
   "source": "# Intermédiaire",
   "id": "fa94bdfa8556f23d"
  },
  {
   "metadata": {
    "ExecuteTime": {
     "end_time": "2025-03-14T08:45:23.803651Z",
     "start_time": "2025-03-14T08:45:23.784254Z"
    }
   },
   "cell_type": "code",
   "source": [
    "# Création et manipulation d'une matrice\n",
    "#→ Crée une matrice 3×3 de nombres entiers aléatoires entre 1 et 50 et remplace la diagonale principale par des 0.\n",
    "matrice = np.array([\n",
    "    np.random.randint(1, 50, size=9),\n",
    "])\n",
    "matrice = matrice.reshape(3, 3)\n",
    "print(matrice)\n",
    "print('___'*10)\n",
    "\n",
    "np.fill_diagonal(matrice, 0)\n",
    "\n",
    "# for i in range(len(matrice)):\n",
    "#     for j in range(len(matrice[i])):\n",
    "#         if i == j:\n",
    "#             matrice[i][j] = 0\n",
    "print(matrice)\n"
   ],
   "id": "c10017c1f02350e3",
   "outputs": [
    {
     "name": "stdout",
     "output_type": "stream",
     "text": [
      "[[30 23 45]\n",
      " [20 24 33]\n",
      " [39 43 14]]\n",
      "______________________________\n",
      "[[ 0 23 45]\n",
      " [20  0 33]\n",
      " [39 43  0]]\n"
     ]
    }
   ],
   "execution_count": 23
  },
  {
   "metadata": {
    "ExecuteTime": {
     "end_time": "2025-03-14T08:50:18.829269Z",
     "start_time": "2025-03-14T08:50:18.818968Z"
    }
   },
   "cell_type": "code",
   "source": [
    "# somme et moyenne d'un tableau\n",
    "#→ Crée un tableau de 100 nombres aléatoires entre 0 et 500 et affiche sa somme et sa moyenne.\n",
    "tab = np.array(np.random.randint(0, 500, size=100))\n",
    "print(tab)\n",
    "print('_'*10)\n",
    "print(tab.sum())\n",
    "print('_'*10)\n",
    "print(tab.mean())"
   ],
   "id": "88ba2061654e6c8f",
   "outputs": [
    {
     "name": "stdout",
     "output_type": "stream",
     "text": [
      "[252 113 246 494  74 259 211 150  16 157  87 143 455 199 395 455  16 378\n",
      " 328 354 295 321 237 184 466  56 400 104 279 445 169 353 338 169 263  39\n",
      " 401 418  22 131  21 205  81 136 233 309 179 162  45 262 370   5 166 450\n",
      " 328 364  56 429  78 448 349 207 421 470 476 474 109 194  99 481 309 136\n",
      "  53 427 422 419 271  91 495 151 101 169 389  21 358 102   0 375 177 378\n",
      " 274 444 372 368 158 472  44 262 471 176]\n",
      "__________\n",
      "25364\n",
      "__________\n",
      "253.64\n"
     ]
    }
   ],
   "execution_count": 29
  }
 ],
 "metadata": {
  "kernelspec": {
   "display_name": "Python 3",
   "language": "python",
   "name": "python3"
  },
  "language_info": {
   "codemirror_mode": {
    "name": "ipython",
    "version": 2
   },
   "file_extension": ".py",
   "mimetype": "text/x-python",
   "name": "python",
   "nbconvert_exporter": "python",
   "pygments_lexer": "ipython2",
   "version": "2.7.6"
  }
 },
 "nbformat": 4,
 "nbformat_minor": 5
}
