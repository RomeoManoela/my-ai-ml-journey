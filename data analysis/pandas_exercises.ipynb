{
 "cells": [
  {
   "metadata": {
    "ExecuteTime": {
     "end_time": "2025-03-12T03:56:08.875310Z",
     "start_time": "2025-03-12T03:56:08.165262Z"
    }
   },
   "cell_type": "code",
   "source": [
    "import pandas as pd\n",
    "towns = pd.Series([15, 18, 20, 17], index=['Paris', 'Lyon', 'Marseille', 'Toulouse'])\n",
    "print(towns['Lyon'])"
   ],
   "id": "6d87474aaa70e329",
   "outputs": [
    {
     "name": "stdout",
     "output_type": "stream",
     "text": [
      "18\n"
     ]
    }
   ],
   "execution_count": 1
  },
  {
   "metadata": {
    "ExecuteTime": {
     "end_time": "2025-03-12T04:07:18.719071Z",
     "start_time": "2025-03-12T04:07:18.696534Z"
    }
   },
   "cell_type": "code",
   "source": [
    "# dataframe manipulation\n",
    "magasin = pd.DataFrame({\n",
    "    'Produit': ['Pomme', 'Banane', \"Orange\"],\n",
    "    'Quantité': [10, 20, 30],\n",
    "    'Prix': [4, 2, 3],\n",
    "})\n",
    "total = magasin['Quantité'] * magasin['Prix']\n",
    "magasin['Total'] = total\n",
    "print(magasin)\n",
    "print(magasin.Produit)\n",
    "# print line corresponding to the product 'Banane'\n",
    "print(magasin[magasin.Produit == 'Banane'])"
   ],
   "id": "beaf25e32754ab79",
   "outputs": [
    {
     "name": "stdout",
     "output_type": "stream",
     "text": [
      "  Produit  Quantité  Prix  Total\n",
      "0   Pomme        10     4     40\n",
      "1  Banane        20     2     40\n",
      "2  Orange        30     3     90\n",
      "0     Pomme\n",
      "1    Banane\n",
      "2    Orange\n",
      "Name: Produit, dtype: object\n",
      "  Produit  Quantité  Prix  Total\n",
      "1  Banane        20     2     40\n"
     ]
    }
   ],
   "execution_count": 7
  },
  {
   "metadata": {},
   "cell_type": "code",
   "outputs": [],
   "execution_count": null,
   "source": "",
   "id": "7e4a2a323b3a86f3"
  }
 ],
 "metadata": {
  "kernelspec": {
   "display_name": "Python 3",
   "language": "python",
   "name": "python3"
  },
  "language_info": {
   "codemirror_mode": {
    "name": "ipython",
    "version": 2
   },
   "file_extension": ".py",
   "mimetype": "text/x-python",
   "name": "python",
   "nbconvert_exporter": "python",
   "pygments_lexer": "ipython2",
   "version": "2.7.6"
  }
 },
 "nbformat": 4,
 "nbformat_minor": 5
}
