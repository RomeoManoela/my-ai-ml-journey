{
 "cells": [
  {
   "cell_type": "code",
   "id": "initial_id",
   "metadata": {
    "collapsed": true,
    "ExecuteTime": {
     "end_time": "2025-03-14T06:50:31.583357Z",
     "start_time": "2025-03-14T06:50:31.551437Z"
    }
   },
   "source": [
    "# valeur manquante\n",
    "import pandas as pd\n",
    "import numpy as np\n",
    "data = {\n",
    "    \"Nom\": [\"Alice\", \"Bob\", \"Charlie\", \"David\", \"Eve\"],\n",
    "    \"Âge\": [25, 30, np.nan, 40, 22],  # Une valeur manquante\n",
    "    \"Score\": [85, 90, 78, np.nan, 95],  # Une valeur manquante\n",
    "    \"Ville\": [\"Paris\", \"Lyon\", \"Lyon\", \"Lille\", \"Lyon\"]\n",
    "}\n",
    "\n",
    "df = pd.DataFrame(data)\n",
    "print(df)\n"
   ],
   "outputs": [
    {
     "name": "stdout",
     "output_type": "stream",
     "text": [
      "       Nom   Âge  Score  Ville\n",
      "0    Alice  25.0   85.0  Paris\n",
      "1      Bob  30.0   90.0   Lyon\n",
      "2  Charlie   NaN   78.0   Lyon\n",
      "3    David  40.0    NaN  Lille\n",
      "4      Eve  22.0   95.0   Lyon\n"
     ]
    }
   ],
   "execution_count": 63
  },
  {
   "metadata": {
    "ExecuteTime": {
     "end_time": "2025-03-14T06:44:35.091174Z",
     "start_time": "2025-03-14T06:44:35.081892Z"
    }
   },
   "cell_type": "code",
   "source": [
    "# verifier les valeurs manquantes\n",
    "print(df.isna())"
   ],
   "id": "6682249e7eccb619",
   "outputs": [
    {
     "name": "stdout",
     "output_type": "stream",
     "text": [
      "     Nom    Âge  Score  Ville\n",
      "0  False  False  False  False\n",
      "1  False  False  False  False\n",
      "2  False   True  False  False\n",
      "3  False  False   True  False\n",
      "4  False  False  False  False\n"
     ]
    }
   ],
   "execution_count": 54
  },
  {
   "metadata": {
    "ExecuteTime": {
     "end_time": "2025-03-14T06:44:37.310422Z",
     "start_time": "2025-03-14T06:44:37.300259Z"
    }
   },
   "cell_type": "code",
   "source": [
    "# remplacer les valeurs manquantes par une valeur par defaut\n",
    "df.fillna({\"Score\": 0}, inplace=True) # inplace=True permet de modifier le dataframe directement, remplacer les valeurs manquantes par 0\n",
    "df.fillna({\"Âge\": df[\"Âge\"].mean()}, inplace=True) # remplacer les valeurs manquantes par la moyenne\n",
    "print(df)"
   ],
   "id": "88298100504dcebb",
   "outputs": [
    {
     "name": "stdout",
     "output_type": "stream",
     "text": [
      "       Nom    Âge  Score      Ville\n",
      "0    Alice  25.00   85.0      Paris\n",
      "1      Bob  30.00   90.0       Lyon\n",
      "2  Charlie  29.25   78.0  Marseille\n",
      "3    David  40.00    0.0      Lille\n",
      "4      Eve  22.00   95.0   Bordeaux\n"
     ]
    }
   ],
   "execution_count": 55
  },
  {
   "metadata": {
    "ExecuteTime": {
     "end_time": "2025-03-14T06:31:22.866965Z",
     "start_time": "2025-03-14T06:31:22.838330Z"
    }
   },
   "cell_type": "code",
   "source": [
    "# selection\n",
    "print(df[df[\"Score\"] > 80]) # selectionner les lignes ou le score est superieur a 90\n",
    "print(\"___\"*10)\n",
    "print(df[df[\"Score\"] > 80][\"Nom\"]) # selectionner les noms ou le score est superieur a 90\n",
    "print(\"___\"*10)\n",
    "print(df[[\"Nom\", \"Score\"]]) # selectionner les colonnes Nom et Score\n",
    "print(\"___\"*10)\n",
    "print(df.loc[0]) # selectionner les 2 premières lignes et les 2 premières colonnes"
   ],
   "id": "585fcc0c73540f53",
   "outputs": [
    {
     "name": "stdout",
     "output_type": "stream",
     "text": [
      "     Nom   Âge  Score     Ville\n",
      "0  Alice  25.0   85.0     Paris\n",
      "1    Bob  30.0   90.0      Lyon\n",
      "4    Eve  22.0   95.0  Bordeaux\n",
      "______________________________\n",
      "0    Alice\n",
      "1      Bob\n",
      "4      Eve\n",
      "Name: Nom, dtype: object\n",
      "______________________________\n",
      "       Nom  Score\n",
      "0    Alice   85.0\n",
      "1      Bob   90.0\n",
      "2  Charlie   78.0\n",
      "3    David    0.0\n",
      "4      Eve   95.0\n",
      "______________________________\n",
      "Nom      Alice\n",
      "Âge       25.0\n",
      "Score     85.0\n",
      "Ville    Paris\n",
      "Name: 0, dtype: object\n"
     ]
    }
   ],
   "execution_count": 34
  },
  {
   "metadata": {
    "ExecuteTime": {
     "end_time": "2025-03-14T06:56:59.253903Z",
     "start_time": "2025-03-14T06:56:59.229685Z"
    }
   },
   "cell_type": "code",
   "source": [
    "df[\"Note\"] = [10, 12, 14, 16, 18] # ajouter une colonne Note\n",
    "print(df)\n"
   ],
   "id": "16d64ee5f3ad8b76",
   "outputs": [
    {
     "name": "stdout",
     "output_type": "stream",
     "text": [
      "       Nom   Âge  Score  Ville  Bonus  Note\n",
      "0    Alice  25.0   85.0  Paris      9    10\n",
      "1      Bob  30.0   90.0   Lyon      9    12\n",
      "2  Charlie   NaN   78.0   Lyon      9    14\n",
      "3    David  40.0    NaN  Lille      9    16\n",
      "4      Eve  22.0   95.0   Lyon      9    18\n"
     ]
    }
   ],
   "execution_count": 73
  },
  {
   "metadata": {
    "ExecuteTime": {
     "end_time": "2025-03-14T06:33:46.502971Z",
     "start_time": "2025-03-14T06:33:46.493508Z"
    }
   },
   "cell_type": "code",
   "source": [
    "df.loc[len(df)] = [\"Fanny\", 20, 90, \"Toulouse\", 10] # ajouter une ligne\n",
    "print(df.iloc[len(df)-1])"
   ],
   "id": "d1f039e724247262",
   "outputs": [
    {
     "name": "stdout",
     "output_type": "stream",
     "text": [
      "Nom         Fanny\n",
      "Âge          20.0\n",
      "Score        90.0\n",
      "Ville    Toulouse\n",
      "Note           10\n",
      "Name: 6, dtype: object\n"
     ]
    }
   ],
   "execution_count": 39
  },
  {
   "metadata": {
    "ExecuteTime": {
     "end_time": "2025-03-14T06:39:34.618007Z",
     "start_time": "2025-03-14T06:39:34.611840Z"
    }
   },
   "cell_type": "code",
   "source": [
    "# selection d'une colonne\n",
    "print(df.loc[:, \"Nom\"])"
   ],
   "id": "d64b9051a6f4a043",
   "outputs": [
    {
     "name": "stdout",
     "output_type": "stream",
     "text": [
      "0      Alice\n",
      "1        Bob\n",
      "2    Charlie\n",
      "3      David\n",
      "4        Eve\n",
      "Name: Nom, dtype: object\n",
      "0      Alice\n",
      "1        Bob\n",
      "2    Charlie\n",
      "3      David\n",
      "4        Eve\n",
      "Name: Nom, dtype: object\n"
     ]
    }
   ],
   "execution_count": 48
  },
  {
   "metadata": {
    "ExecuteTime": {
     "end_time": "2025-03-14T06:57:05.157437Z",
     "start_time": "2025-03-14T06:57:05.143585Z"
    }
   },
   "cell_type": "code",
   "source": [
    "# modifier une valeur\n",
    "df.loc[df[\"Nom\"] == \"Alice\", \"Note\"] = 15 # modifier la note de Alice\n",
    "print(df)"
   ],
   "id": "f69fa71b9b498142",
   "outputs": [
    {
     "name": "stdout",
     "output_type": "stream",
     "text": [
      "       Nom   Âge  Score  Ville  Bonus  Note\n",
      "0    Alice  25.0   85.0  Paris      9    15\n",
      "1      Bob  30.0   90.0   Lyon      9    12\n",
      "2  Charlie   NaN   78.0   Lyon      9    14\n",
      "3    David  40.0    NaN  Lille      9    16\n",
      "4      Eve  22.0   95.0   Lyon      9    18\n"
     ]
    }
   ],
   "execution_count": 74
  },
  {
   "metadata": {
    "ExecuteTime": {
     "end_time": "2025-03-14T06:57:08.020920Z",
     "start_time": "2025-03-14T06:57:08.009667Z"
    }
   },
   "cell_type": "code",
   "source": [
    "# appliquer une fonction a une colonne\n",
    "df[\"Note\"] = df[\"Note\"].apply(lambda x: x + 1) # ajouter 1 a chaque note\n",
    "print(df)"
   ],
   "id": "1686c8f2949d9626",
   "outputs": [
    {
     "name": "stdout",
     "output_type": "stream",
     "text": [
      "       Nom   Âge  Score  Ville  Bonus  Note\n",
      "0    Alice  25.0   85.0  Paris      9    16\n",
      "1      Bob  30.0   90.0   Lyon      9    13\n",
      "2  Charlie   NaN   78.0   Lyon      9    15\n",
      "3    David  40.0    NaN  Lille      9    17\n",
      "4      Eve  22.0   95.0   Lyon      9    19\n"
     ]
    }
   ],
   "execution_count": 75
  },
  {
   "metadata": {
    "ExecuteTime": {
     "end_time": "2025-03-14T06:48:49.155622Z",
     "start_time": "2025-03-14T06:48:49.137515Z"
    }
   },
   "cell_type": "code",
   "source": [
    "# trier le dataFrame par une colonne\n",
    "print(df.sort_values(by=\"Note\")) # trier par note\n",
    "print(\"___\"*10)\n",
    "print(df.sort_values(by=\"Nom\", ascending=False)) # trier par nom en ordre decroissant"
   ],
   "id": "96bf333e84483153",
   "outputs": [
    {
     "name": "stdout",
     "output_type": "stream",
     "text": [
      "       Nom    Âge  Score      Ville  Note\n",
      "1      Bob  30.00   90.0       Lyon    13\n",
      "2  Charlie  29.25   78.0  Marseille    15\n",
      "0    Alice  25.00   85.0      Paris    16\n",
      "3    David  40.00    0.0      Lille    17\n",
      "4      Eve  22.00   95.0   Bordeaux    19\n",
      "______________________________\n",
      "       Nom    Âge  Score      Ville  Note\n",
      "4      Eve  22.00   95.0   Bordeaux    19\n",
      "3    David  40.00    0.0      Lille    17\n",
      "2  Charlie  29.25   78.0  Marseille    15\n",
      "1      Bob  30.00   90.0       Lyon    13\n",
      "0    Alice  25.00   85.0      Paris    16\n"
     ]
    }
   ],
   "execution_count": 61
  },
  {
   "metadata": {},
   "cell_type": "markdown",
   "source": "Manipulation avec numpy",
   "id": "9ca1d1ccc1176980"
  },
  {
   "metadata": {
    "ExecuteTime": {
     "end_time": "2025-03-14T06:57:15.333349Z",
     "start_time": "2025-03-14T06:57:15.323681Z"
    }
   },
   "cell_type": "code",
   "source": [
    "# ajouter une colonne bonus\n",
    "df[\"Bonus\"] = np.random.randint(0, 10, len(df)) # ajouter une colonne Bonus\n",
    "print(df)"
   ],
   "id": "26692651a8a8dbc4",
   "outputs": [
    {
     "name": "stdout",
     "output_type": "stream",
     "text": [
      "       Nom   Âge  Score  Ville  Bonus  Note\n",
      "0    Alice  25.0   85.0  Paris      9    16\n",
      "1      Bob  30.0   90.0   Lyon      5    13\n",
      "2  Charlie   NaN   78.0   Lyon      2    15\n",
      "3    David  40.0    NaN  Lille      0    17\n",
      "4      Eve  22.0   95.0   Lyon      4    19\n"
     ]
    }
   ],
   "execution_count": 76
  },
  {
   "metadata": {
    "ExecuteTime": {
     "end_time": "2025-03-14T06:58:41.466999Z",
     "start_time": "2025-03-14T06:58:41.438359Z"
    }
   },
   "cell_type": "code",
   "source": [
    "# admit ou pas\n",
    "df[\"Admis\"] = np.where(df[\"Note\"] + df[\"Bonus\"] > 20, \"Oui\", \"Non\")\n",
    "print(df)"
   ],
   "id": "45a1bdd2f7d8a5f9",
   "outputs": [
    {
     "name": "stdout",
     "output_type": "stream",
     "text": [
      "       Nom   Âge  Score  Ville  Bonus  Note Admis\n",
      "0    Alice  25.0   85.0  Paris      9    16   Oui\n",
      "1      Bob  30.0   90.0   Lyon      5    13   Non\n",
      "2  Charlie   NaN   78.0   Lyon      2    15   Non\n",
      "3    David  40.0    NaN  Lille      0    17   Non\n",
      "4      Eve  22.0   95.0   Lyon      4    19   Oui\n"
     ]
    }
   ],
   "execution_count": 78
  }
 ],
 "metadata": {
  "kernelspec": {
   "display_name": "Python 3",
   "language": "python",
   "name": "python3"
  },
  "language_info": {
   "codemirror_mode": {
    "name": "ipython",
    "version": 2
   },
   "file_extension": ".py",
   "mimetype": "text/x-python",
   "name": "python",
   "nbconvert_exporter": "python",
   "pygments_lexer": "ipython2",
   "version": "2.7.6"
  }
 },
 "nbformat": 4,
 "nbformat_minor": 5
}
