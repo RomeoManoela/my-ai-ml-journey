{
 "cells": [
  {
   "metadata": {},
   "cell_type": "markdown",
   "source": "# Débutant",
   "id": "7e9ce2863fc75570"
  },
  {
   "metadata": {
    "ExecuteTime": {
     "end_time": "2025-03-19T05:38:13.352841Z",
     "start_time": "2025-03-19T05:38:13.345032Z"
    }
   },
   "cell_type": "code",
   "source": [
    "# 1️Créer un DataFrame à partir d’un tableau NumPy\n",
    "import pandas as pd\n",
    "import numpy as np\n",
    "data = np.array([[\"Romeo\", \"4 ans\", 20], [\"Navony\", \"3 ans\", 23], [\"Mario\", '1 an', 21]])\n",
    "df = pd.DataFrame(data, columns=['Nom', 'Experience', 'Age'])\n",
    "print(df)"
   ],
   "id": "ec3177b5ab04f0c4",
   "outputs": [
    {
     "name": "stdout",
     "output_type": "stream",
     "text": [
      "      Nom Experience Age\n",
      "0   Romeo      4 ans  20\n",
      "1  Navony      3 ans  23\n",
      "2   Mario       1 an  21\n"
     ]
    }
   ],
   "execution_count": 3
  },
  {
   "metadata": {
    "ExecuteTime": {
     "end_time": "2025-03-19T05:43:50.799785Z",
     "start_time": "2025-03-19T05:43:50.757486Z"
    }
   },
   "cell_type": "code",
   "source": [
    "# 2️Remplacer les valeurs NaN dans un DataFrame avec NumPy\n",
    "df = pd.DataFrame({'A': [1, 2, np.nan], 'B': [4, np.nan, np.nan], 'C': [7, 8, 9]})\n",
    "print(df)\n",
    "df.fillna(0, inplace=True)\n",
    "print(df)\n"
   ],
   "id": "ae83ffcf9e0fea25",
   "outputs": [
    {
     "name": "stdout",
     "output_type": "stream",
     "text": [
      "     A    B  C\n",
      "0  1.0  4.0  7\n",
      "1  2.0  NaN  8\n",
      "2  NaN  NaN  9\n",
      "     A    B  C\n",
      "0  1.0  4.0  7\n",
      "1  2.0  0.0  8\n",
      "2  0.0  0.0  9\n"
     ]
    }
   ],
   "execution_count": 7
  },
  {
   "metadata": {
    "ExecuteTime": {
     "end_time": "2025-03-19T05:52:15.815170Z",
     "start_time": "2025-03-19T05:52:15.803887Z"
    }
   },
   "cell_type": "code",
   "source": [
    "# 3 Afficher les premières lignes d’un DataFrame\n",
    "#→ Charge un DataFrame contenant 1000 lignes et affiche les 10 premières.\n",
    "df = pd.DataFrame(np.random.randint(0, 100, size=(1000, 3)), columns=[\"Score\", \"Age\", \"Experience\"])\n",
    "print(df)\n",
    "print(df.head(10))"
   ],
   "id": "c34397b196a899de",
   "outputs": [
    {
     "name": "stdout",
     "output_type": "stream",
     "text": [
      "     Score  Age  Experience\n",
      "0       93    0          42\n",
      "1        2   27          79\n",
      "2       57   74          39\n",
      "3       18   60          48\n",
      "4       85   73          49\n",
      "..     ...  ...         ...\n",
      "995     62   51          65\n",
      "996     33   90          96\n",
      "997     15   46          17\n",
      "998     75   61          94\n",
      "999     97   31          37\n",
      "\n",
      "[1000 rows x 3 columns]\n",
      "   Score  Age  Experience\n",
      "0     93    0          42\n",
      "1      2   27          79\n",
      "2     57   74          39\n",
      "3     18   60          48\n",
      "4     85   73          49\n",
      "5      5   37          95\n",
      "6     63   91          23\n",
      "7     57   98          78\n",
      "8     44   14           2\n",
      "9     26   69          91\n"
     ]
    }
   ],
   "execution_count": 11
  },
  {
   "metadata": {
    "ExecuteTime": {
     "end_time": "2025-03-19T05:53:21.704994Z",
     "start_time": "2025-03-19T05:53:21.679851Z"
    }
   },
   "cell_type": "code",
   "source": [
    "# 4 Accéder à une colonne spécifique\n",
    "#→ Affiche uniquement la colonne Score du DataFrame précédent.\n",
    "print(df[\"Score\"].head(10))"
   ],
   "id": "bc99f5ee55df987",
   "outputs": [
    {
     "name": "stdout",
     "output_type": "stream",
     "text": [
      "0    93\n",
      "1     2\n",
      "2    57\n",
      "3    18\n",
      "4    85\n",
      "5     5\n",
      "6    63\n",
      "7    57\n",
      "8    44\n",
      "9    26\n",
      "Name: Score, dtype: int64\n"
     ]
    }
   ],
   "execution_count": 13
  },
  {
   "metadata": {
    "ExecuteTime": {
     "end_time": "2025-03-19T05:54:54.364368Z",
     "start_time": "2025-03-19T05:54:54.353767Z"
    }
   },
   "cell_type": "code",
   "source": [
    "# 5 ajout d'une colonne\n",
    "df['notes'] = np.random.randint(0, 100, size=1000)\n",
    "print(df.head(10))"
   ],
   "id": "508dace7c580e799",
   "outputs": [
    {
     "name": "stdout",
     "output_type": "stream",
     "text": [
      "   Score  Age  Experience  notes\n",
      "0     93    0          42     54\n",
      "1      2   27          79      1\n",
      "2     57   74          39     16\n",
      "3     18   60          48     59\n",
      "4     85   73          49      5\n",
      "5      5   37          95     66\n",
      "6     63   91          23     25\n",
      "7     57   98          78     73\n",
      "8     44   14           2     33\n",
      "9     26   69          91     95\n"
     ]
    }
   ],
   "execution_count": 14
  },
  {
   "metadata": {
    "ExecuteTime": {
     "end_time": "2025-03-19T05:55:25.441175Z",
     "start_time": "2025-03-19T05:55:25.418414Z"
    }
   },
   "cell_type": "code",
   "source": [
    "# 6 filtrage\n",
    "print(df[df[\"Score\"] > 50].head(10))"
   ],
   "id": "52d456148ef7d104",
   "outputs": [
    {
     "name": "stdout",
     "output_type": "stream",
     "text": [
      "    Score  Age  Experience  notes\n",
      "0      93    0          42     54\n",
      "2      57   74          39     16\n",
      "4      85   73          49      5\n",
      "6      63   91          23     25\n",
      "7      57   98          78     73\n",
      "11     65   34          31     97\n",
      "12     56   70          27     42\n",
      "14     81   60          63     68\n",
      "15     85   24          29     90\n",
      "17     77   38          49     98\n"
     ]
    }
   ],
   "execution_count": 15
  }
 ],
 "metadata": {
  "kernelspec": {
   "display_name": "Python 3",
   "language": "python",
   "name": "python3"
  },
  "language_info": {
   "codemirror_mode": {
    "name": "ipython",
    "version": 2
   },
   "file_extension": ".py",
   "mimetype": "text/x-python",
   "name": "python",
   "nbconvert_exporter": "python",
   "pygments_lexer": "ipython2",
   "version": "2.7.6"
  }
 },
 "nbformat": 4,
 "nbformat_minor": 5
}
