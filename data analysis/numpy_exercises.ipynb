{
 "cells": [
  {
   "metadata": {},
   "cell_type": "markdown",
   "source": "### create a 2-dimensional integer array of size 3x3, complete randomly, print the 2nd line and print the first column.",
   "id": "c63c57b0014b1468"
  },
  {
   "metadata": {
    "ExecuteTime": {
     "end_time": "2025-03-09T06:11:07.837871Z",
     "start_time": "2025-03-09T06:11:07.807597Z"
    }
   },
   "cell_type": "code",
   "source": [
    "import numpy as np\n",
    "arr = np.random.randint(0, 10, (3,3))\n",
    "print(f\"arr: {arr}\")\n",
    "print(f\"2nd line: {arr[1]}\")\n",
    "print(f\"first column: {arr[:,0]}\")"
   ],
   "id": "a917c756ec6d0264",
   "outputs": [
    {
     "name": "stdout",
     "output_type": "stream",
     "text": [
      "arr: [[6 0 1]\n",
      " [3 9 9]\n",
      " [1 0 1]]\n",
      "2nd line: [3 9 9]\n",
      "first column: [6 3 1]\n"
     ]
    }
   ],
   "execution_count": 62
  },
  {
   "metadata": {
    "ExecuteTime": {
     "end_time": "2025-03-09T06:20:42.080145Z",
     "start_time": "2025-03-09T06:20:42.068645Z"
    }
   },
   "cell_type": "code",
   "source": "### create an array of integer in range 2 to 13 and print their logarithm and their square root",
   "id": "89183f327ef59ad4",
   "outputs": [],
   "execution_count": 69
  },
  {
   "metadata": {
    "ExecuteTime": {
     "end_time": "2025-03-09T06:22:39.953435Z",
     "start_time": "2025-03-09T06:22:39.931247Z"
    }
   },
   "cell_type": "code",
   "source": [
    "arr = np.arange(2, 14)\n",
    "print(f\"arr: {arr}\")\n",
    "print(f\"log: {np.log(arr)}\")\n",
    "print(f\"sqrt: {np.sqrt(arr)}\")"
   ],
   "id": "29c6491f5c510fa9",
   "outputs": [
    {
     "name": "stdout",
     "output_type": "stream",
     "text": [
      "arr: [ 2  3  4  5  6  7  8  9 10 11 12 13]\n",
      "log: [0.69314718 1.09861229 1.38629436 1.60943791 1.79175947 1.94591015\n",
      " 2.07944154 2.19722458 2.30258509 2.39789527 2.48490665 2.56494936]\n",
      "sqrt: [1.41421356 1.73205081 2.         2.23606798 2.44948974 2.64575131\n",
      " 2.82842712 3.         3.16227766 3.31662479 3.46410162 3.60555128]\n"
     ]
    }
   ],
   "execution_count": 72
  },
  {
   "metadata": {},
   "cell_type": "markdown",
   "source": "modify the previous array to be a 3x4 dimensional matrix",
   "id": "4f748d3f675a4fcd"
  },
  {
   "metadata": {
    "ExecuteTime": {
     "end_time": "2025-03-09T06:22:41.956290Z",
     "start_time": "2025-03-09T06:22:41.948226Z"
    }
   },
   "cell_type": "code",
   "source": "print(arr.reshape(3,4))",
   "id": "3e4a2e184a6b8107",
   "outputs": [
    {
     "name": "stdout",
     "output_type": "stream",
     "text": [
      "[[ 2  3  4  5]\n",
      " [ 6  7  8  9]\n",
      " [10 11 12 13]]\n"
     ]
    }
   ],
   "execution_count": 73
  },
  {
   "metadata": {},
   "cell_type": "code",
   "outputs": [],
   "execution_count": null,
   "source": "",
   "id": "4e55094a15f62713"
  }
 ],
 "metadata": {
  "kernelspec": {
   "display_name": "Python 3",
   "language": "python",
   "name": "python3"
  },
  "language_info": {
   "codemirror_mode": {
    "name": "ipython",
    "version": 2
   },
   "file_extension": ".py",
   "mimetype": "text/x-python",
   "name": "python",
   "nbconvert_exporter": "python",
   "pygments_lexer": "ipython2",
   "version": "2.7.6"
  }
 },
 "nbformat": 4,
 "nbformat_minor": 5
}
