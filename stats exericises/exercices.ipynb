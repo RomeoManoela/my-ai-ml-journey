{
 "cells": [
  {
   "metadata": {},
   "cell_type": "markdown",
   "source": [
    "## z-test\n",
    "Exercice 1 :\n",
    "Tu as un échantillon de tailles de chaussures d’un magasin :\n",
    "\n",
    "tailles = [42, 43, 41, 44, 45, 42, 42, 43, 41, 45]\n",
    "On sait que la taille moyenne nationale est 42.5, avec un écart-type σ = 1.5.\n",
    "Testons si les tailles du magasin sont différentes de la moyenne nationale (Z-test à une seule moyenne).\n",
    "\n",
    " Hypothèse nulle H₀ : μ = 42.5\n",
    " Hypothèse alternative H₁ : μ ≠ 42.5\n",
    "\n",
    "Exercice 2 :\n",
    "Tu analyses le temps moyen de réponse d’un serveur.\n",
    "On sait que la moyenne historique est de 250 ms, σ = 30.\n",
    "Tu as enregistré un échantillon :\n",
    "\n",
    "temps_reponse = [260, 270, 245, 240, 255, 265, 250, 248]\n",
    "Effectue un Z-test pour voir si le serveur est devenu plus lent."
   ],
   "id": "2783760eaa950f98"
  },
  {
   "metadata": {
    "ExecuteTime": {
     "end_time": "2025-05-13T13:43:39.213484Z",
     "start_time": "2025-05-13T13:43:38.509092Z"
    }
   },
   "cell_type": "code",
   "source": [
    "import scipy\n",
    "import numpy as np"
   ],
   "id": "2ceed7759ecdba3f",
   "outputs": [],
   "execution_count": 2
  },
  {
   "metadata": {
    "ExecuteTime": {
     "end_time": "2025-05-13T14:04:11.044040Z",
     "start_time": "2025-05-13T14:04:11.017448Z"
    }
   },
   "cell_type": "code",
   "source": [
    "# exercice 1\n",
    "\n",
    "tailles = [42, 43, 41, 44, 45, 42, 42, 43, 41, 45]\n",
    "moyenne = 42.5\n",
    "ecart_type = 1.5\n",
    "x_bar = np.mean(tailles)\n",
    "n = len(tailles)\n",
    "z = (x_bar - moyenne) / (ecart_type / np.sqrt(n))\n",
    "p_value = (1 - scipy.stats.norm.cdf(abs(z))) * 2\n",
    "alpha = 0.05\n",
    "if p_value < alpha:\n",
    "    print(\"On rejette H0\")\n",
    "else:\n",
    "    print(\"On ne peut pas rejeter H0\")"
   ],
   "id": "cb56380d6e20cc36",
   "outputs": [
    {
     "name": "stdout",
     "output_type": "stream",
     "text": [
      "On ne peut pas rejeter H0\n"
     ]
    }
   ],
   "execution_count": 13
  },
  {
   "metadata": {
    "ExecuteTime": {
     "end_time": "2025-05-13T14:04:57.124953Z",
     "start_time": "2025-05-13T14:04:57.113221Z"
    }
   },
   "cell_type": "code",
   "source": [
    "# exercice 2\n",
    "temps_reponse = [260, 270, 245, 240, 255, 265, 250, 248]\n",
    "moyenne = 250\n",
    "ecart_type = 30\n",
    "x_bar = np.mean(temps_reponse)\n",
    "n = len(temps_reponse)\n",
    "z = (x_bar - moyenne) / (ecart_type / np.sqrt(n))\n",
    "p_value = scipy.stats.norm.cdf(abs(z))\n",
    "alpha = 0.05\n",
    "if p_value < alpha:\n",
    "    print(\"On rejette H0\")\n",
    "else:\n",
    "    print(\"On ne peut pas rejeter H0\")"
   ],
   "id": "40c0ca7b1b038424",
   "outputs": [
    {
     "name": "stdout",
     "output_type": "stream",
     "text": [
      "0.6513281678875205\n",
      "On ne peut pas rejeter H0\n"
     ]
    }
   ],
   "execution_count": 15
  },
  {
   "metadata": {},
   "cell_type": "markdown",
   "source": [
    "## T-test\n",
    "Exercice 1 :\n",
    "Deux groupes d’étudiants suivent deux cours différents. On veut savoir s’il y a une différence significative dans leur note moyenne.\n",
    "\n",
    "groupe_A = [12, 13, 11, 10, 14, 13]\n",
    "groupe_B = [15, 16, 14, 17, 15, 14]\n",
    "➡️ Fais un t-test indépendant."
   ],
   "id": "98227c5beac77f1b"
  },
  {
   "metadata": {
    "ExecuteTime": {
     "end_time": "2025-05-13T14:10:13.759163Z",
     "start_time": "2025-05-13T14:10:13.723562Z"
    }
   },
   "cell_type": "code",
   "source": [
    "# Exercice 1\n",
    "groupe_A = [12, 13, 11, 10, 14, 13]\n",
    "groupe_B = [15, 16, 14, 17, 15, 14]\n",
    "t, p_value = scipy.stats.ttest_ind(groupe_A, groupe_B)\n",
    "alpha = 0.05\n",
    "if p_value < alpha:\n",
    "    print(\"On rejette H0\")\n",
    "    print(\"Il y a une différence significative entre les deux groupes\")\n",
    "else:\n",
    "    print(\"On ne peut pas rejeter H0\")\n",
    "    print(\"Il n'y a pas de différence significative entre les deux groupes\")"
   ],
   "id": "3708512adc9d6c14",
   "outputs": [
    {
     "name": "stdout",
     "output_type": "stream",
     "text": [
      "On rejette H0\n",
      "Il y a une différence significative entre les deux groupes\n"
     ]
    }
   ],
   "execution_count": 18
  },
  {
   "metadata": {},
   "cell_type": "markdown",
   "source": [
    "## chi square\n",
    "Exercice 2 :\n",
    "On observe les couleurs de voitures vues dans un parking :\n",
    "\n",
    "Couleur\tObservée\n",
    "Rouge\t50\n",
    "Bleu\t30\n",
    "Noir\t20\n",
    "\n",
    "La répartition attendue est 40%, 40%, 20%.\n",
    "➡️ Test du χ² de conformité (Goodness of Fit)."
   ],
   "id": "1d858e8441b019d6"
  },
  {
   "metadata": {
    "ExecuteTime": {
     "end_time": "2025-05-13T14:34:40.031751Z",
     "start_time": "2025-05-13T14:34:40.016334Z"
    }
   },
   "cell_type": "code",
   "source": [
    "# Exercice 2\n",
    "couleurs = [\"Rouge\", \"Bleu\", \"Noir\"]\n",
    "observe = np.array([50, 30, 20])\n",
    "attendu = np.array([0.4, 0.4, 0.2]) * sum(observe)\n",
    "chi2, p_value = scipy.stats.chisquare(observe, f_exp=attendu)\n",
    "alpha = 0.05\n",
    "if p_value < alpha:\n",
    "    print(\"On rejette H0\")\n",
    "    print(\"La répartition observée est significativement différente de la répartition attendue\")\n",
    "else:\n",
    "    print(\"On ne peut pas rejeter H0\")\n",
    "    print(\"La répartition observée n'est pas significativement différente de la répartition attendue\")"
   ],
   "id": "6a27f18b1a8b2ace",
   "outputs": [
    {
     "name": "stdout",
     "output_type": "stream",
     "text": [
      "On ne peut pas rejeter H0\n",
      "La répartition observée n'est pas significativement différente de la répartition attendue\n"
     ]
    }
   ],
   "execution_count": 28
  },
  {
   "metadata": {},
   "cell_type": "code",
   "outputs": [],
   "execution_count": null,
   "source": "",
   "id": "8ba4cf5752bbc9f2"
  }
 ],
 "metadata": {
  "kernelspec": {
   "display_name": "Python 3",
   "language": "python",
   "name": "python3"
  },
  "language_info": {
   "codemirror_mode": {
    "name": "ipython",
    "version": 2
   },
   "file_extension": ".py",
   "mimetype": "text/x-python",
   "name": "python",
   "nbconvert_exporter": "python",
   "pygments_lexer": "ipython2",
   "version": "2.7.6"
  }
 },
 "nbformat": 4,
 "nbformat_minor": 5
}
